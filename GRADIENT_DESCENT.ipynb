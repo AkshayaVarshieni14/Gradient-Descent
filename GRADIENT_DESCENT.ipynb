{
  "nbformat": 4,
  "nbformat_minor": 0,
  "metadata": {
    "colab": {
      "provenance": []
    },
    "kernelspec": {
      "name": "python3",
      "display_name": "Python 3"
    },
    "language_info": {
      "name": "python"
    }
  },
  "cells": [
    {
      "cell_type": "code",
      "execution_count": 1,
      "metadata": {
        "colab": {
          "base_uri": "https://localhost:8080/"
        },
        "id": "tbM5FL7zpaA1",
        "outputId": "3c438beb-c87e-489c-f103-bf501ab74e52"
      },
      "outputs": [
        {
          "output_type": "stream",
          "name": "stdout",
          "text": [
            "31.934677394134408\n",
            "1.8021320545942183\n",
            "100.4156954687147\n",
            "[-40.15060479  13.91335685  31.93467739  46.35173383  58.96665821\n",
            "  71.5815826 ]\n",
            "0.05572622807250253\n"
          ]
        }
      ],
      "source": [
        "import numpy as np\n",
        "\n",
        "# Input and Output data\n",
        "x = np.array([-40, -10,  0,  8, 15, 22],  dtype=float)\n",
        "y = np.array([-40,  14, 32, 46, 59, 72],  dtype=float)\n",
        "\n",
        "# Define error function\n",
        "def error(y_hat):\n",
        "  return np.mean(np.square(y-y_hat)) # Means Squared Error b/w Actual and Predicted Output\n",
        "\n",
        "# Hyperparameters\n",
        "m = 1\n",
        "c = 5\n",
        "learning_rate = 0.001 # The learning Rate\n",
        "epochs = 3000 # The number of iterations to perform gradient descent\n",
        "\n",
        "n = len(x)\n",
        "error_vals = []\n",
        "\n",
        "# Performing Gradient Descent\n",
        "for i in range(epochs):\n",
        "  # Forward propagation (basically multiplication)\n",
        "  y_hat = m*x + c # The current predicted value of Y\n",
        "\n",
        "  # Calculate Mean Squared Error\n",
        "  error_vals.append(error(y_hat))\n",
        "\n",
        "  # Find the Gradients\n",
        "  de_dm = (-2/n) * np.sum(x * (y - y_hat)) # Derivative of error function wrt m\n",
        "  de_dc = (-2/n) * np.sum(y - y_hat) # Derivative of error function wrt c\n",
        "\n",
        "  # Back propagation (update the weights)\n",
        "  m = m - (de_dm * learning_rate)\n",
        "  c = c - (de_dc * learning_rate)\n",
        "\n",
        "# Now check the slope and intercept value\n",
        "print(c) # 31.934677394134408\n",
        "print(m) # 1.8021320545942183\n",
        "\n",
        "# Predict\n",
        "print(m * 38 + c) # 100.4156954687147\n",
        "\n",
        "# Predicted values and Actual Values\n",
        "y_hat = m*x + c\n",
        "print(y_hat) # Predictions\n",
        "print(error(y_hat)) # 0.05572622807250253"
      ]
    },
    {
      "cell_type": "code",
      "source": [],
      "metadata": {
        "id": "H-S37FZJYuFa"
      },
      "execution_count": null,
      "outputs": []
    }
  ]
}